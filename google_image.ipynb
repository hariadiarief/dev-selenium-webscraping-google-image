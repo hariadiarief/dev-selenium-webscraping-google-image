{
 "cells": [
  {
   "cell_type": "code",
   "execution_count": 1,
   "metadata": {},
   "outputs": [],
   "source": [
    "from selenium.webdriver.common.keys import Keys\n",
    "from selenium.webdriver.common.by import By\n",
    "from selenium.webdriver.support.ui import WebDriverWait\n",
    "from selenium.webdriver.support import expected_conditions as EC\n",
    "import undetected_chromedriver as uc\n",
    "from datetime import datetime\n",
    "import pandas as pd"
   ]
  },
  {
   "attachments": {},
   "cell_type": "markdown",
   "metadata": {},
   "source": [
    "#### List of search queries"
   ]
  },
  {
   "cell_type": "code",
   "execution_count": 3,
   "metadata": {},
   "outputs": [],
   "source": [
    "# search_queries = [\"cat\", \"dog\"]\n",
    "# all data\n",
    "search_queries = [\n",
    "    \"ABC KECAP 25ML\",\n",
    "    \"ABC KCP 60ML\", \n",
    "    \"ABC SAMBAL 9GR\",\n",
    "    \"abc sambal 20GR\",\n",
    "    \"ABC SAMBAL 135ML\",\n",
    "    \"ABC SAMBAL 75GR\"\n",
    "]"
   ]
  },
  {
   "cell_type": "code",
   "execution_count": null,
   "metadata": {},
   "outputs": [],
   "source": [
    "search_queries = [\"ABC MOCCA 12rcg x 10 x 31 gr\",\"AHH CHEESE\"]"
   ]
  },
  {
   "cell_type": "code",
   "execution_count": null,
   "metadata": {},
   "outputs": [],
   "source": [
    "# Set up the Selenium driver\n",
    "options = uc.ChromeOptions()\n",
    "driver = uc.Chrome(options=options)\n",
    "\n",
    "# save results\n",
    "results = []\n",
    "\n",
    "# Scrap\n",
    "for query in search_queries:\n",
    "    driver.get(\"https://www.google.com/imghp\")\n",
    " \n",
    "    search_box = driver.find_element(By.XPATH, '//textarea[@name=\"q\"]')\n",
    "    search_box.send_keys(f\"site:www.tokopedia.com {query}\")\n",
    "    search_box.send_keys(Keys.RETURN)\n",
    "\n",
    "    wait = WebDriverWait(driver, 10)\n",
    "\n",
    "    try:\n",
    "        selected_image = wait.until(EC.element_to_be_clickable((By.CSS_SELECTOR, \".rg_i.Q4LuWd\")))\n",
    "        selected_image.click()\n",
    "    except Exception as e:\n",
    "        print(e)\n",
    "\n",
    "    try:\n",
    "        img_url = wait.until(EC.visibility_of_element_located((By.CSS_SELECTOR, \".sFlh5c.pT0Scc.iPVvYb\"))).get_attribute(\"src\")\n",
    "    except Exception as e:\n",
    "        img_url = \"\"\n",
    "        print(e)\n",
    "\n",
    "    result = {\n",
    "        \"name\": query,\n",
    "        \"image\": img_url,\n",
    "    }\n",
    "\n",
    "    results.append(result) \n",
    "     \n",
    "\n",
    "# Close the browser\n",
    "driver.quit()\n",
    "\n",
    "print(\"---DONE--\")"
   ]
  },
  {
   "attachments": {},
   "cell_type": "markdown",
   "metadata": {},
   "source": [
    "### Print Result"
   ]
  },
  {
   "cell_type": "code",
   "execution_count": null,
   "metadata": {},
   "outputs": [],
   "source": [
    "print(results)"
   ]
  },
  {
   "attachments": {},
   "cell_type": "markdown",
   "metadata": {},
   "source": [
    "### Generate .csv"
   ]
  },
  {
   "cell_type": "code",
   "execution_count": null,
   "metadata": {},
   "outputs": [],
   "source": [
    "dt_now = datetime.now().strftime('%Y%m%d_%H_%M_%S')\n",
    "df_data = pd.DataFrame(results)\n",
    "df_data.to_csv(f'image_tokob2b{dt_now}.csv',index=False)"
   ]
  }
 ],
 "metadata": {
  "kernelspec": {
   "display_name": "base",
   "language": "python",
   "name": "python3"
  },
  "language_info": {
   "codemirror_mode": {
    "name": "ipython",
    "version": 3
   },
   "file_extension": ".py",
   "mimetype": "text/x-python",
   "name": "python",
   "nbconvert_exporter": "python",
   "pygments_lexer": "ipython3",
   "version": "3.11.4"
  },
  "orig_nbformat": 4
 },
 "nbformat": 4,
 "nbformat_minor": 2
}
